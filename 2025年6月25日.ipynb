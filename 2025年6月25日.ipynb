{
 "cells": [
  {
   "cell_type": "markdown",
   "id": "d44da329",
   "metadata": {},
   "source": [
    "# 2025年6月25日：\n",
    "\n",
    "今日干的事：\n",
    "\n",
    "1. 学习SFT微调\n",
    "\n",
    "    下载数据集【完成】\n",
    "\n",
    "    运行\n",
    "\n",
    "    评估\n",
    "\n",
    "\n",
    "\n",
    "2. 注册钩子准备采集数据\n",
    "\n",
    "    "
   ]
  }
 ],
 "metadata": {
  "language_info": {
   "name": "python"
  }
 },
 "nbformat": 4,
 "nbformat_minor": 5
}
