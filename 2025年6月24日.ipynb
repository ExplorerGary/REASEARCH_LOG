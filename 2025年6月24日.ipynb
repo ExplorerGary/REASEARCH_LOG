{
 "cells": [
  {
   "cell_type": "markdown",
   "id": "a06a7a8c",
   "metadata": {},
   "source": [
    "# 2025年6月24日\n",
    "\n",
    "## 今天干的事：\n",
    "1、 快速启动LLM微调：\n",
    "\n",
    "    搭建环境【完成】\n",
    "\n",
    "    按照教程启动微调【在做了】\n",
    "\n",
    "    加载钩子（已有思路）：改写_wrap_model函数，加入钩子（关注：桶里的东西【自定义dict实现】；一个batch中桶的数量；桶的数据类型，占据多少空间）\n",
    "\n",
    "        思路有问题，已更换思路为：改写training step\n",
    "\n",
    "        目前钩子肯定是挂上了，但是还是有bug。我明天再检查一下。应该就可以了\n",
    "\n",
    "2、 组会：\n",
    "    明天（2025年6月25日），下午3:00 GMT +8 会与Fleix和Sienna召开组会。\n",
    "    \n",
    "\n",
    "    \n",
    "2、 llama大模型：\n",
    "    待定"
   ]
  }
 ],
 "metadata": {
  "language_info": {
   "name": "python"
  }
 },
 "nbformat": 4,
 "nbformat_minor": 5
}
